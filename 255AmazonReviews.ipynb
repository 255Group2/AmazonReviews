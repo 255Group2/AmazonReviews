{
 "cells": [
  {
   "cell_type": "code",
   "execution_count": 6,
   "id": "0482f8e3-b45e-49af-a238-3f736eff50ed",
   "metadata": {},
   "outputs": [
    {
     "name": "stderr",
     "output_type": "stream",
     "text": [
      "[nltk_data] Downloading package punkt to\n",
      "[nltk_data]     /Users/richardph911/nltk_data...\n",
      "[nltk_data]   Package punkt is already up-to-date!\n",
      "[nltk_data] Downloading package stopwords to\n",
      "[nltk_data]     /Users/richardph911/nltk_data...\n",
      "[nltk_data]   Package stopwords is already up-to-date!\n",
      "[nltk_data] Downloading package wordnet to\n",
      "[nltk_data]     /Users/richardph911/nltk_data...\n",
      "[nltk_data]   Package wordnet is already up-to-date!\n"
     ]
    },
    {
     "data": {
      "text/plain": [
       "True"
      ]
     },
     "execution_count": 6,
     "metadata": {},
     "output_type": "execute_result"
    }
   ],
   "source": [
    "import pandas as pd\n",
    "import numpy as np\n",
    "import re\n",
    "import matplotlib.pyplot as plt\n",
    "import seaborn as sns\n",
    "import nltk\n",
    "from nltk.corpus import stopwords\n",
    "from nltk.stem import WordNetLemmatizer\n",
    "from sklearn.model_selection import train_test_split\n",
    "from sklearn.feature_extraction.text import TfidfVectorizer\n",
    "from sklearn.feature_extraction.text import HashingVectorizer \n",
    "\n",
    "nltk.download('punkt')\n",
    "nltk.download('stopwords')\n",
    "nltk.download('wordnet')\n"
   ]
  },
  {
   "cell_type": "markdown",
   "id": "496698eb",
   "metadata": {},
   "source": [
    "### Raw data\n",
    "label : 1 for negative and 2 for positive\n",
    "\n",
    "title : review heading\n",
    "\n",
    "text : review body"
   ]
  },
  {
   "cell_type": "code",
   "execution_count": 7,
   "id": "d6604617-255a-4559-b008-57a2b85b2566",
   "metadata": {},
   "outputs": [],
   "source": [
    "# Load the dataset\n",
    "def load_data(train_path, test_path):\n",
    "    try:\n",
    "        train_df = pd.read_csv(train_path)\n",
    "        test_df = pd.read_csv(test_path)\n",
    "        \n",
    "        # Load training data\n",
    "        train_df = pd.read_csv(train_path, names=['label', 'title', 'text'])\n",
    "        test_df = pd.read_csv(test_path, names=['label', 'title', 'text'])\n",
    "        print(\"Datasets loaded successfully!\")\n",
    "\n",
    "        train_df['label'] = train_df['label'].map({1: 0, 2: 1})\n",
    "        test_df['label'] = test_df['label'].map({1: 0, 2: 1})\n",
    "        return train_df, test_df\n",
    "\n",
    "    except FileNotFoundError:\n",
    "        print(\"File not found. Please check the file path.\")\n",
    "        return None, None"
   ]
  },
  {
   "cell_type": "code",
   "execution_count": 8,
   "id": "6efd242e-901e-4fef-8c63-b6cb90fea698",
   "metadata": {},
   "outputs": [],
   "source": [
    "# Text preprocessing\n",
    "def preprocess_text(text):\n",
    "    # Remove special characters\n",
    "    text = re.sub(r'[^a-zA-Z0-9\\s]', '', text, flags=re.IGNORECASE)\n",
    "    text = re.sub(r'https?://\\S+|www\\.\\S+', '', text)  # Remove URLs\n",
    "    text = re.sub(r'\\S+@\\S+', '', text)  # Remove emails\n",
    "    # Tokenize\n",
    "    tokens = text.lower().split()\n",
    "    # Remove stopwords\n",
    "    tokens = [t for t in tokens if t not in stopwords.words('english')]\n",
    "    # Lemmatize\n",
    "    lemmatizer = WordNetLemmatizer()\n",
    "    tokens = [lemmatizer.lemmatize(t) for t in tokens]\n",
    "    return ' '.join(tokens)\n"
   ]
  },
  {
   "cell_type": "code",
   "execution_count": null,
   "id": "3d568c0a",
   "metadata": {},
   "outputs": [],
   "source": [
    "def vectorize_text(train_text, test_text):\n",
    "    # Use HashingVectorizer for memory efficiency\n",
    "    vectorizer = HashingVectorizer(n_features=2**18, alternate_sign=False)\n",
    "    X_train = vectorizer.transform(train_text)\n",
    "    X_test = vectorizer.transform(test_text)\n",
    "    \n",
    "    return X_train, X_test"
   ]
  },
  {
   "cell_type": "code",
   "execution_count": 9,
   "id": "8107bd4d",
   "metadata": {},
   "outputs": [
    {
     "name": "stdout",
     "output_type": "stream",
     "text": [
      "Datasets loaded successfully!\n"
     ]
    }
   ],
   "source": [
    "if __name__ == \"__main__\":\n",
    "    train_path = '/Users/richardph911/Downloads/archive/train.csv' \n",
    "    test_path = '/Users/richardph911/Downloads/archive/test.csv' \n",
    "    train_df, test_df = load_data(train_path, test_path)\n",
    "    # Preprocess the text\n",
    "    if train_df is not None and test_df is not None:\n",
    "        \n",
    "        print(\"train text\", train_df['text'].iloc[0])\n",
    "        print(\"train label : \", train_df['label'].iloc[0])\n",
    "        print(\"test text\", test_df['text'].iloc[0])\n",
    "        print(\"test label : \", test_df['label'].iloc[0])\n",
    "\n",
    "\n",
    "        # X_train = train_df['text'].astype(str).values\n",
    "        # y_train = train_df['label'].values\n",
    "        # X_test = test_df['text'].astype(str).values\n",
    "        # y_test = test_df['label'].values\n",
    "\n",
    "        # print(\"\\nFirst training text sample:\")\n",
    "        # print(X_test[0])\n",
    "    \n",
    "        # print(\"\\nFirst test text sample:\")\n",
    "        # print(y_test[0])\n",
    "       \n",
    "\n",
    "        # Preprocess text for both datasets\n",
    "        train_df['text'] = [preprocess_text(text) for text in train_df['text']]\n",
    "        test_df['text'] = [preprocess_text(text) for text in test_df['text']]\n",
    "        \n",
    "        # 3. Memory-efficient vectorization\n",
    "        X_train, X_test = vectorize_text(train_df['text'], test_df['text'])\n",
    "        y_train = train_df['label'].values\n",
    "        y_test = test_df['label'].values\n",
    "       \n",
    "        X_train, X_val, y_train, y_val = train_test_split(\n",
    "        X_train, y_train, test_size=0.2, random_state=42, stratify=y_train)\n",
    "\n",
    "        print(f\"X_train: {X_train.shape}, y_train: {y_train.shape}\")\n",
    "        print(f\"X_test: {X_test.shape}, y_test: {y_test.shape}\")\n",
    "\n"
   ]
  },
  {
   "cell_type": "code",
   "execution_count": null,
   "id": "87398b5f",
   "metadata": {},
   "outputs": [],
   "source": []
  }
 ],
 "metadata": {
  "kernelspec": {
   "display_name": "Python 3 (ipykernel)",
   "language": "python",
   "name": "python3"
  },
  "language_info": {
   "codemirror_mode": {
    "name": "ipython",
    "version": 3
   },
   "file_extension": ".py",
   "mimetype": "text/x-python",
   "name": "python",
   "nbconvert_exporter": "python",
   "pygments_lexer": "ipython3",
   "version": "3.9.1"
  }
 },
 "nbformat": 4,
 "nbformat_minor": 5
}
