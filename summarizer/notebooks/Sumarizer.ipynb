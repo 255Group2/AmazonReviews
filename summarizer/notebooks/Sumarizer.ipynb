{
 "cells": [
  {
   "cell_type": "code",
   "execution_count": 1,
   "id": "4cf8774e-ccf2-4d0c-b179-b85982ab26e3",
   "metadata": {},
   "outputs": [
    {
     "data": {
      "text/plain": [
       "'try sentiomemt analysic'"
      ]
     },
     "execution_count": 1,
     "metadata": {},
     "output_type": "execute_result"
    }
   ],
   "source": [
    "\"try sentiomemt analysic\"\n"
   ]
  },
  {
   "cell_type": "code",
   "execution_count": 1,
   "id": "db0a5c17-31d8-4868-a89c-ecccc572c565",
   "metadata": {},
   "outputs": [],
   "source": [
    "from SummaryModel import PolishedMRLSummarizer  # if saved in .py file"
   ]
  },
  {
   "cell_type": "code",
   "execution_count": 3,
   "id": "0f63fe33-dc74-4d56-bfae-c9aab22bbfdc",
   "metadata": {},
   "outputs": [
    {
     "name": "stdout",
     "output_type": "stream",
     "text": [
      "Model loaded from polished_ml_model.pkl\n",
      "IDF dictionary size: 341122\n"
     ]
    }
   ],
   "source": [
    "loaded_model = PolishedMRLSummarizer.load()"
   ]
  },
  {
   "cell_type": "code",
   "execution_count": 5,
   "id": "3f992cdd-ac8d-4c1f-b05e-365287f31129",
   "metadata": {},
   "outputs": [
    {
     "name": "stdout",
     "output_type": "stream",
     "text": [
      "Customer feedback is mixed for this product, with many reporting is fantastic, fantastic and noting the battery: the battery lasts, battery lasts all. However, some users mention service concerns including support was unhelpful, was unhelpful .. Key themes include stopped, unfortunately. Overall, potential buyers should weigh these strengths against the mentioned concerns.\n"
     ]
    }
   ],
   "source": [
    "sample_reviews = [\n",
    "    \"The camera quality is fantastic and the battery lasts all day.\",\n",
    "    \"Unfortunately, it stopped charging within two weeks and support was unhelpful.\"\n",
    "]\n",
    "\n",
    "print(loaded_model.generate_summary(sample_reviews))\n"
   ]
  },
  {
   "cell_type": "code",
   "execution_count": null,
   "id": "3b0e4bfd-3d4b-4465-9d92-d384df5972a5",
   "metadata": {},
   "outputs": [],
   "source": []
  },
  {
   "cell_type": "code",
   "execution_count": null,
   "id": "92a57204-0f62-4832-b608-1fe8b152d346",
   "metadata": {},
   "outputs": [],
   "source": []
  },
  {
   "cell_type": "code",
   "execution_count": 14,
   "id": "95ad9b6f-b8e1-4b29-b610-f5dbf35c207d",
   "metadata": {},
   "outputs": [],
   "source": [
    "import pickle\n",
    "\n",
    "# Load the model\n",
    "with open(\"best_sentiment_model.pkl\", \"rb\") as f:\n",
    "    loaded_model = pickle.load(f)\n",
    "\n",
    "# Example input\n",
    "test_sentences = [\"I love this product!\", \"This is the worst thing I've ever bought.\"]\n",
    "\n",
    "\n"
   ]
  },
  {
   "cell_type": "code",
   "execution_count": 10,
   "id": "34f3c0aa-73d2-44aa-919b-2c2a46cab0b5",
   "metadata": {},
   "outputs": [],
   "source": [
    "reviews_to_predict = [\n",
    "            {\n",
    "                \"title\": \"ACTUALLY NO STARS for rating pf Funny People movie\",\n",
    "                \"text\": \"Save your money. Your time can be MUCH better spent. This was one of the worse movies I ever sat through. Actually, I drifted away close to the end and was thankful I didn't waste that time. Its AWFUL.\"\n",
    "            },\n",
    "            {\n",
    "                \"title\" :  \"What happend Sandler?\",\n",
    "                \"text\" :\"His movies seem to be going down hill. The only thing i found funny about this movie was Eminem snapping in it. Other then that, it is just not that funny. Dont let it trick you, only see this if its free.\"\n",
    "\n",
    "            },\n",
    "            {\n",
    "                \"title\": \"Not Funny People\",\n",
    "                \"text\": \"Not worth the time.Pros: there were several good one-liners; introduced me to new comediansCons: excess foul language; adultry;\"\n",
    "            },\n",
    "            {\n",
    "                \"title\": \"Very inspirational\",\n",
    "                \"text\": \"So I just watched Funny People. For a movie that has an all star cast, it was a great movie. If you want to see a movie filled with laughs and a good story pick this movie up. I promise you won't regret it.\"\n",
    "            },\n",
    "            {\n",
    "                \"title\": \"Sfar's Best!\",\n",
    "                \"text\": \"A delightfully funny story! A wonderful graphic novel that gives us a cat's-eye view of the Sephardic Jewish community in Algeria and then the Algerian community in Paris in the early 20th Century. It's a love story. Very funny and endearing. And the hero is a cat! This is a must for Joann Sfar fans.\"\n",
    "            },\n",
    "            {\n",
    "                \"title\": \"The Rabbi's Cat is the cat's meow!\",\n",
    "                \"text\": \"This book came highly recommended to me by my Rabbi's husband. I was not disappointed! I think everyone will love this illustrated novel.Jorma\"\n",
    "            },\n",
    "            {\n",
    "                \"title\": \"What happend Sandler?\",\n",
    "                \"text\": \"His movies seem to be going down hill. The only thing i found funny about this movie was Eminem snapping in it. Other then that, it is just not that funny. Dont let it trick you, only see this if its free.\"\n",
    "            }\n",
    "        ]"
   ]
  },
  {
   "cell_type": "code",
   "execution_count": 15,
   "id": "9c3ca192-1dde-43bc-b53e-b3d9b7788124",
   "metadata": {},
   "outputs": [
    {
     "name": "stdout",
     "output_type": "stream",
     "text": [
      "\n",
      "Review: Awesome experience! - The phone works smoothly and the battery life is fantastic.\n",
      "True Label: Positive\n",
      "Predicted Sentiment: Positive\n",
      "Processed Input: awesome experience! the phone works smoothly and the battery life is fantastic.\n",
      "\n",
      "Review: Disappointing - Stopped working within a week. Terrible support.\n",
      "True Label: Negative\n",
      "Predicted Sentiment: Negative\n",
      "Processed Input: disappointing stopped working within a week. terrible support.\n"
     ]
    }
   ],
   "source": [
    "# Assume the model dict has already been loaded:\n",
    "best_model = loaded_model['model']\n",
    "vectorizer = loaded_model['vectorizer']\n",
    "\n",
    "def preprocess_text(text):\n",
    "    # Add any preprocessing used during training, e.g., lowercasing, cleaning\n",
    "    return text.lower()\n",
    "\n",
    "def predict_review(text, title, model, vectorizer):\n",
    "    combined = preprocess_text(title + ' ' + text)\n",
    "    try:\n",
    "        X = vectorizer.transform([combined])\n",
    "        prediction = model.predict(X)[0]\n",
    "        result = f\"Predicted Sentiment: {'Positive' if prediction == 1 else 'Negative'}\"\n",
    "        return result, prediction, combined\n",
    "    except Exception as e:\n",
    "        print(f\"Prediction error: {e}\")\n",
    "        return None, None, None\n",
    "\n",
    "# Example review\n",
    "reviews_to_predict = [\n",
    "    {\n",
    "        \"title\": \"Awesome experience!\",\n",
    "        \"text\": \"The phone works smoothly and the battery life is fantastic.\",\n",
    "        \"true_label\": 1\n",
    "    },\n",
    "    {\n",
    "        \"title\": \"Disappointing\",\n",
    "        \"text\": \"Stopped working within a week. Terrible support.\",\n",
    "        \"true_label\": 0\n",
    "    }\n",
    "]\n",
    "\n",
    "# Prediction loop\n",
    "for review_data in reviews_to_predict:\n",
    "    try:\n",
    "        title = review_data[\"title\"]\n",
    "        text = review_data[\"text\"]\n",
    "        true_label = review_data.get(\"true_label\", None)\n",
    "        print(f\"\\nReview: {title} - {text}\")\n",
    "        if true_label is not None:\n",
    "            print(f\"True Label: {'Negative' if true_label == 0 else 'Positive'}\")\n",
    "        result, prediction, summary = predict_review(text, title, best_model, vectorizer)\n",
    "        if result is None:\n",
    "            print(\"Prediction failed for this review.\")\n",
    "            continue\n",
    "        print(result)\n",
    "        print(f\"Processed Input: {summary}\")\n",
    "        if true_label is not None and prediction != true_label:\n",
    "            print(\"❗ Misclassified!\")\n",
    "    except Exception as e:\n",
    "        print(f\"Error processing review: {e}\")\n"
   ]
  },
  {
   "cell_type": "code",
   "execution_count": null,
   "id": "84875cec-81c7-431b-b2e3-6c5930c4e41b",
   "metadata": {},
   "outputs": [],
   "source": []
  }
 ],
 "metadata": {
  "kernelspec": {
   "display_name": "Python 3 (ipykernel)",
   "language": "python",
   "name": "python3"
  },
  "language_info": {
   "codemirror_mode": {
    "name": "ipython",
    "version": 3
   },
   "file_extension": ".py",
   "mimetype": "text/x-python",
   "name": "python",
   "nbconvert_exporter": "python",
   "pygments_lexer": "ipython3",
   "version": "3.13.1"
  }
 },
 "nbformat": 4,
 "nbformat_minor": 5
}
